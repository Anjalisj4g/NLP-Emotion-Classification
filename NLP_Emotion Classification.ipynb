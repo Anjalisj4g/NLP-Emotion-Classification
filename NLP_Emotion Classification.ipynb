{
 "cells": [
  {
   "cell_type": "markdown",
   "id": "fc843ee2-63eb-4ece-be58-f6f49adca9d8",
   "metadata": {},
   "source": [
    "# <span style=\"color : Purple\" > **NLP - Emotion Classification** </span>"
   ]
  },
  {
   "cell_type": "markdown",
   "id": "a6b2a055-cdc4-4b99-9bab-0bd9a5c9570c",
   "metadata": {},
   "source": [
    "## <span style=\"color : maroon\" > Objective </span>\n",
    "\n",
    "### **Develop machine learning models to classify emotions in text samples.**"
   ]
  },
  {
   "cell_type": "markdown",
   "id": "9e2380e2-504c-477e-b61e-def34a1934e1",
   "metadata": {},
   "source": [
    "### Models used : \n",
    "* <span style=\"color : green\" > **Naive Bayes** </span>\n",
    "* <span style=\"color : green\" > **Support Vector Machine** </span>\n"
   ]
  },
  {
   "cell_type": "code",
   "execution_count": 22,
   "id": "f4988393-faf8-422e-8e0d-4683286387f9",
   "metadata": {},
   "outputs": [],
   "source": [
    "import nltk"
   ]
  },
  {
   "cell_type": "code",
   "execution_count": 23,
   "id": "b2e0216b-800b-4e7f-aaee-035364cf1521",
   "metadata": {},
   "outputs": [],
   "source": [
    "import pandas as pd\n",
    "import numpy as np\n",
    "import re\n",
    "import string\n",
    "from sklearn.model_selection import train_test_split\n",
    "from nltk.corpus import stopwords\n",
    "from nltk.tokenize import word_tokenize"
   ]
  },
  {
   "cell_type": "markdown",
   "id": "979b0991-57e3-4f1b-a35b-c212217faa38",
   "metadata": {},
   "source": [
    "## <span style=\"color : maroon\" > Loading and Preprocessing </span>"
   ]
  },
  {
   "cell_type": "code",
   "execution_count": 24,
   "id": "71e999d2-7990-45d4-a6c1-9a57e829283f",
   "metadata": {},
   "outputs": [
    {
     "name": "stdout",
     "output_type": "stream",
     "text": [
      "                                                Comment Emotion\n",
      "0     i seriously hate one subject to death but now ...    fear\n",
      "1                    im so full of life i feel appalled   anger\n",
      "2     i sit here to write i start to dig out my feel...    fear\n",
      "3     ive been really angry with r and i feel like a...     joy\n",
      "4     i feel suspicious if there is no one outside l...    fear\n",
      "...                                                 ...     ...\n",
      "5932                 i begun to feel distressed for you    fear\n",
      "5933  i left feeling annoyed and angry thinking that...   anger\n",
      "5934  i were to ever get married i d have everything...     joy\n",
      "5935  i feel reluctant in applying there because i w...    fear\n",
      "5936  i just wanted to apologize to you because i fe...   anger\n",
      "\n",
      "[5937 rows x 2 columns]\n",
      "\n",
      "Data Loaded Successfully\n"
     ]
    }
   ],
   "source": [
    "df=pd.read_csv(\"nlp_dataset.csv\")\n",
    "print(df)\n",
    "\n",
    "print(\"\\nData Loaded Successfully\")"
   ]
  },
  {
   "cell_type": "code",
   "execution_count": 25,
   "id": "663dedb7-bc4d-4833-bfeb-dd77f2e3910f",
   "metadata": {},
   "outputs": [
    {
     "name": "stdout",
     "output_type": "stream",
     "text": [
      "First few rows of the dataset are :\n",
      "\n"
     ]
    },
    {
     "data": {
      "text/html": [
       "<div>\n",
       "<style scoped>\n",
       "    .dataframe tbody tr th:only-of-type {\n",
       "        vertical-align: middle;\n",
       "    }\n",
       "\n",
       "    .dataframe tbody tr th {\n",
       "        vertical-align: top;\n",
       "    }\n",
       "\n",
       "    .dataframe thead th {\n",
       "        text-align: right;\n",
       "    }\n",
       "</style>\n",
       "<table border=\"1\" class=\"dataframe\">\n",
       "  <thead>\n",
       "    <tr style=\"text-align: right;\">\n",
       "      <th></th>\n",
       "      <th>Comment</th>\n",
       "      <th>Emotion</th>\n",
       "    </tr>\n",
       "  </thead>\n",
       "  <tbody>\n",
       "    <tr>\n",
       "      <th>0</th>\n",
       "      <td>i seriously hate one subject to death but now ...</td>\n",
       "      <td>fear</td>\n",
       "    </tr>\n",
       "    <tr>\n",
       "      <th>1</th>\n",
       "      <td>im so full of life i feel appalled</td>\n",
       "      <td>anger</td>\n",
       "    </tr>\n",
       "    <tr>\n",
       "      <th>2</th>\n",
       "      <td>i sit here to write i start to dig out my feel...</td>\n",
       "      <td>fear</td>\n",
       "    </tr>\n",
       "    <tr>\n",
       "      <th>3</th>\n",
       "      <td>ive been really angry with r and i feel like a...</td>\n",
       "      <td>joy</td>\n",
       "    </tr>\n",
       "    <tr>\n",
       "      <th>4</th>\n",
       "      <td>i feel suspicious if there is no one outside l...</td>\n",
       "      <td>fear</td>\n",
       "    </tr>\n",
       "  </tbody>\n",
       "</table>\n",
       "</div>"
      ],
      "text/plain": [
       "                                             Comment Emotion\n",
       "0  i seriously hate one subject to death but now ...    fear\n",
       "1                 im so full of life i feel appalled   anger\n",
       "2  i sit here to write i start to dig out my feel...    fear\n",
       "3  ive been really angry with r and i feel like a...     joy\n",
       "4  i feel suspicious if there is no one outside l...    fear"
      ]
     },
     "execution_count": 25,
     "metadata": {},
     "output_type": "execute_result"
    }
   ],
   "source": [
    "print(\"First few rows of the dataset are :\\n\")\n",
    "df.head()"
   ]
  },
  {
   "cell_type": "code",
   "execution_count": 26,
   "id": "6f85ff54-3961-4381-93b3-f7ea978227a0",
   "metadata": {},
   "outputs": [
    {
     "name": "stdout",
     "output_type": "stream",
     "text": [
      "Last few rows of the dataset are :\n",
      "\n"
     ]
    },
    {
     "data": {
      "text/html": [
       "<div>\n",
       "<style scoped>\n",
       "    .dataframe tbody tr th:only-of-type {\n",
       "        vertical-align: middle;\n",
       "    }\n",
       "\n",
       "    .dataframe tbody tr th {\n",
       "        vertical-align: top;\n",
       "    }\n",
       "\n",
       "    .dataframe thead th {\n",
       "        text-align: right;\n",
       "    }\n",
       "</style>\n",
       "<table border=\"1\" class=\"dataframe\">\n",
       "  <thead>\n",
       "    <tr style=\"text-align: right;\">\n",
       "      <th></th>\n",
       "      <th>Comment</th>\n",
       "      <th>Emotion</th>\n",
       "    </tr>\n",
       "  </thead>\n",
       "  <tbody>\n",
       "    <tr>\n",
       "      <th>5932</th>\n",
       "      <td>i begun to feel distressed for you</td>\n",
       "      <td>fear</td>\n",
       "    </tr>\n",
       "    <tr>\n",
       "      <th>5933</th>\n",
       "      <td>i left feeling annoyed and angry thinking that...</td>\n",
       "      <td>anger</td>\n",
       "    </tr>\n",
       "    <tr>\n",
       "      <th>5934</th>\n",
       "      <td>i were to ever get married i d have everything...</td>\n",
       "      <td>joy</td>\n",
       "    </tr>\n",
       "    <tr>\n",
       "      <th>5935</th>\n",
       "      <td>i feel reluctant in applying there because i w...</td>\n",
       "      <td>fear</td>\n",
       "    </tr>\n",
       "    <tr>\n",
       "      <th>5936</th>\n",
       "      <td>i just wanted to apologize to you because i fe...</td>\n",
       "      <td>anger</td>\n",
       "    </tr>\n",
       "  </tbody>\n",
       "</table>\n",
       "</div>"
      ],
      "text/plain": [
       "                                                Comment Emotion\n",
       "5932                 i begun to feel distressed for you    fear\n",
       "5933  i left feeling annoyed and angry thinking that...   anger\n",
       "5934  i were to ever get married i d have everything...     joy\n",
       "5935  i feel reluctant in applying there because i w...    fear\n",
       "5936  i just wanted to apologize to you because i fe...   anger"
      ]
     },
     "execution_count": 26,
     "metadata": {},
     "output_type": "execute_result"
    }
   ],
   "source": [
    "print(\"Last few rows of the dataset are :\\n\")\n",
    "df.tail()"
   ]
  },
  {
   "cell_type": "code",
   "execution_count": 27,
   "id": "c9ae1cf6-e706-46ff-bb10-239a206b6973",
   "metadata": {},
   "outputs": [
    {
     "data": {
      "text/plain": [
       "(5937, 2)"
      ]
     },
     "execution_count": 27,
     "metadata": {},
     "output_type": "execute_result"
    }
   ],
   "source": [
    "df.shape"
   ]
  },
  {
   "cell_type": "markdown",
   "id": "1a21f1d4-8f61-426f-b889-3b107c56f14c",
   "metadata": {},
   "source": [
    "#### There are 5937 rows and 2 columns in the dataset."
   ]
  },
  {
   "cell_type": "code",
   "execution_count": 28,
   "id": "aef453c5-b866-4655-8ee5-21bade05bcad",
   "metadata": {},
   "outputs": [
    {
     "data": {
      "text/html": [
       "<div>\n",
       "<style scoped>\n",
       "    .dataframe tbody tr th:only-of-type {\n",
       "        vertical-align: middle;\n",
       "    }\n",
       "\n",
       "    .dataframe tbody tr th {\n",
       "        vertical-align: top;\n",
       "    }\n",
       "\n",
       "    .dataframe thead th {\n",
       "        text-align: right;\n",
       "    }\n",
       "</style>\n",
       "<table border=\"1\" class=\"dataframe\">\n",
       "  <thead>\n",
       "    <tr style=\"text-align: right;\">\n",
       "      <th></th>\n",
       "      <th>Comment</th>\n",
       "      <th>Emotion</th>\n",
       "    </tr>\n",
       "  </thead>\n",
       "  <tbody>\n",
       "    <tr>\n",
       "      <th>count</th>\n",
       "      <td>5937</td>\n",
       "      <td>5937</td>\n",
       "    </tr>\n",
       "    <tr>\n",
       "      <th>unique</th>\n",
       "      <td>5934</td>\n",
       "      <td>3</td>\n",
       "    </tr>\n",
       "    <tr>\n",
       "      <th>top</th>\n",
       "      <td>i feel like a tortured artist when i talk to her</td>\n",
       "      <td>anger</td>\n",
       "    </tr>\n",
       "    <tr>\n",
       "      <th>freq</th>\n",
       "      <td>2</td>\n",
       "      <td>2000</td>\n",
       "    </tr>\n",
       "  </tbody>\n",
       "</table>\n",
       "</div>"
      ],
      "text/plain": [
       "                                                 Comment Emotion\n",
       "count                                               5937    5937\n",
       "unique                                              5934       3\n",
       "top     i feel like a tortured artist when i talk to her   anger\n",
       "freq                                                   2    2000"
      ]
     },
     "execution_count": 28,
     "metadata": {},
     "output_type": "execute_result"
    }
   ],
   "source": [
    "df.describe()"
   ]
  },
  {
   "cell_type": "code",
   "execution_count": 29,
   "id": "78968d22-0da8-426e-9243-420adefe1c6c",
   "metadata": {},
   "outputs": [
    {
     "name": "stdout",
     "output_type": "stream",
     "text": [
      "<class 'pandas.core.frame.DataFrame'>\n",
      "RangeIndex: 5937 entries, 0 to 5936\n",
      "Data columns (total 2 columns):\n",
      " #   Column   Non-Null Count  Dtype \n",
      "---  ------   --------------  ----- \n",
      " 0   Comment  5937 non-null   object\n",
      " 1   Emotion  5937 non-null   object\n",
      "dtypes: object(2)\n",
      "memory usage: 92.9+ KB\n"
     ]
    }
   ],
   "source": [
    "df.info()"
   ]
  },
  {
   "cell_type": "code",
   "execution_count": 30,
   "id": "7bb11a10-c28e-4581-ae8e-e28812ace02a",
   "metadata": {},
   "outputs": [
    {
     "name": "stdout",
     "output_type": "stream",
     "text": [
      "Missing values in the dataframe :\n",
      " Comment    0\n",
      "Emotion    0\n",
      "dtype: int64\n"
     ]
    }
   ],
   "source": [
    "missing_values=df.isnull().sum()\n",
    "print(\"Missing values in the dataframe :\\n\", missing_values)"
   ]
  },
  {
   "cell_type": "markdown",
   "id": "d00b2bdd-9843-4b7c-8a1b-5a470a67ba43",
   "metadata": {},
   "source": [
    "#### There are no missing values in the dataset."
   ]
  },
  {
   "cell_type": "code",
   "execution_count": 31,
   "id": "bea79ff8-6ed0-439a-b246-cbbb8b7ab111",
   "metadata": {},
   "outputs": [],
   "source": [
    "df.drop_duplicates(inplace=True)"
   ]
  },
  {
   "cell_type": "code",
   "execution_count": 32,
   "id": "ac5733f0-2a8c-482b-a2d0-0536beaafd3f",
   "metadata": {},
   "outputs": [
    {
     "data": {
      "text/plain": [
       "Index(['Comment', 'Emotion'], dtype='object')"
      ]
     },
     "execution_count": 32,
     "metadata": {},
     "output_type": "execute_result"
    }
   ],
   "source": [
    "df.columns"
   ]
  },
  {
   "cell_type": "markdown",
   "id": "ffd4d752-8950-412a-a9a9-1a65545283b3",
   "metadata": {},
   "source": [
    "#### There are two columns : Comment and Emotion."
   ]
  },
  {
   "cell_type": "markdown",
   "id": "bce3adc9-6211-48f2-8ca9-6d64bec4da61",
   "metadata": {},
   "source": [
    "## Text Cleaning"
   ]
  },
  {
   "cell_type": "code",
   "execution_count": 33,
   "id": "1fc601f2-77e6-4fa0-9ad4-9ba0811776a9",
   "metadata": {},
   "outputs": [
    {
     "name": "stderr",
     "output_type": "stream",
     "text": [
      "[nltk_data] Downloading package stopwords to\n",
      "[nltk_data]     C:\\Users\\gokul\\AppData\\Roaming\\nltk_data...\n",
      "[nltk_data]   Package stopwords is already up-to-date!\n",
      "[nltk_data] Downloading package punkt to\n",
      "[nltk_data]     C:\\Users\\gokul\\AppData\\Roaming\\nltk_data...\n",
      "[nltk_data]   Package punkt is already up-to-date!\n"
     ]
    },
    {
     "data": {
      "text/plain": [
       "True"
      ]
     },
     "execution_count": 33,
     "metadata": {},
     "output_type": "execute_result"
    }
   ],
   "source": [
    "import nltk\n",
    "nltk.download('stopwords')\n",
    "nltk.download('punkt')"
   ]
  },
  {
   "cell_type": "markdown",
   "id": "1f9ce164-be24-4bf3-b13d-f928565e9dfb",
   "metadata": {},
   "source": [
    "### Remove punctuation and numbers"
   ]
  },
  {
   "cell_type": "code",
   "execution_count": 34,
   "id": "e1dcf1a0-4b9c-4f41-8eb4-4d5115765573",
   "metadata": {},
   "outputs": [],
   "source": [
    "cleaned_text = []\n",
    "for text in df['Comment']:\n",
    "    text = re.sub(r'[^\\w\\s]', '', text)\n",
    "    text = re.sub(r'\\d+', '', text)\n",
    "    cleaned_text.append(text)"
   ]
  },
  {
   "cell_type": "markdown",
   "id": "ff925b35-bcda-4ff2-bac7-39af830724f9",
   "metadata": {},
   "source": [
    "### Convert to lower case"
   ]
  },
  {
   "cell_type": "code",
   "execution_count": 35,
   "id": "6e15dcd4-1c07-47cf-99a8-24a10e554a8c",
   "metadata": {},
   "outputs": [],
   "source": [
    "cleaned_text = [text.lower() for text in cleaned_text]"
   ]
  },
  {
   "cell_type": "markdown",
   "id": "1fb54a25-d525-40a7-8320-11924339d7fe",
   "metadata": {},
   "source": [
    "## Tokenization"
   ]
  },
  {
   "cell_type": "markdown",
   "id": "2224a74d-24fd-45ce-8a77-dabc01621ad8",
   "metadata": {},
   "source": [
    "### Tokenization "
   ]
  },
  {
   "cell_type": "code",
   "execution_count": 36,
   "id": "94ccfe55-6305-419d-b6d2-6ea78527d50e",
   "metadata": {},
   "outputs": [],
   "source": [
    "tokenized_text = [word_tokenize(text) for text in cleaned_text]"
   ]
  },
  {
   "cell_type": "markdown",
   "id": "492cda7b-69fd-40da-83a9-0bed150ce8f9",
   "metadata": {},
   "source": [
    "Tokenization is the process of breaking down a piece of text into smaller units called \"tokens.\" These tokens can be words, phrases, or even individual characters, depending on the level of granularity desired. Tokenization is a crucial step in text preprocessing, especially in natural language processing (NLP) tasks, as it transforms text into a format that can be more easily analyzed and processed by machine learning models."
   ]
  },
  {
   "cell_type": "markdown",
   "id": "8298f107-992a-48e9-b53f-c7a9b6128c94",
   "metadata": {},
   "source": [
    "### Stopwords removal"
   ]
  },
  {
   "cell_type": "code",
   "execution_count": 37,
   "id": "4c457dda-04da-47b3-8832-c9cbb7740a10",
   "metadata": {},
   "outputs": [],
   "source": [
    "stop_words = set(stopwords.words('english'))\n",
    "filtered_text = []\n",
    "for tokens in tokenized_text:\n",
    "    filtered_text.append([word for word in tokens if word not in stop_words])"
   ]
  },
  {
   "cell_type": "markdown",
   "id": "e2347df6-1823-46ce-a7d2-fe8be5b843d1",
   "metadata": {},
   "source": [
    "Stopword removal is the process of eliminating common words from a text that are often considered unimportant for certain natural language processing (NLP) tasks. These words, known as \"stopwords,\" include frequently used words. It reduce noises, improve efficiency and enhance model performance."
   ]
  },
  {
   "cell_type": "code",
   "execution_count": 38,
   "id": "dbefff28-3705-4b91-97aa-fe2eae868fa5",
   "metadata": {},
   "outputs": [
    {
     "name": "stdout",
     "output_type": "stream",
     "text": [
      "<bound method NDFrame.head of                                                 Comment Emotion  \\\n",
      "0     i seriously hate one subject to death but now ...    fear   \n",
      "1                    im so full of life i feel appalled   anger   \n",
      "2     i sit here to write i start to dig out my feel...    fear   \n",
      "3     ive been really angry with r and i feel like a...     joy   \n",
      "4     i feel suspicious if there is no one outside l...    fear   \n",
      "...                                                 ...     ...   \n",
      "5932                 i begun to feel distressed for you    fear   \n",
      "5933  i left feeling annoyed and angry thinking that...   anger   \n",
      "5934  i were to ever get married i d have everything...     joy   \n",
      "5935  i feel reluctant in applying there because i w...    fear   \n",
      "5936  i just wanted to apologize to you because i fe...   anger   \n",
      "\n",
      "                                           cleaned_text  \n",
      "0     seriously hate one subject death feel reluctan...  \n",
      "1                            im full life feel appalled  \n",
      "2     sit write start dig feelings think afraid acce...  \n",
      "3     ive really angry r feel like idiot trusting fi...  \n",
      "4     feel suspicious one outside like rapture happe...  \n",
      "...                                                 ...  \n",
      "5932                              begun feel distressed  \n",
      "5933  left feeling annoyed angry thinking center stu...  \n",
      "5934  ever get married everything ready offer got to...  \n",
      "5935  feel reluctant applying want able find company...  \n",
      "5936         wanted apologize feel like heartless bitch  \n",
      "\n",
      "[5937 rows x 3 columns]>\n"
     ]
    }
   ],
   "source": [
    "final_text = [' '.join(tokens) for tokens in filtered_text]\n",
    "\n",
    "# Add cleaned text to the dataframe\n",
    "df['cleaned_text'] = final_text\n",
    "print(df.head)"
   ]
  },
  {
   "cell_type": "markdown",
   "id": "e507622c-8f0f-4618-bbf1-cf97f2df2af7",
   "metadata": {},
   "source": [
    "## <span style=\"color : maroon\" > Feature Extraction </span>"
   ]
  },
  {
   "cell_type": "markdown",
   "id": "d37f1f5a-cec8-4c91-a2b8-f2bb971a0832",
   "metadata": {},
   "source": [
    "Feature extraction is the process of transforming raw data into a set of features that can be effectively used by machine learning models. The goal is to capture the most important information in the data while reducing its complexity, making it easier for algorithms to process and learn from the data.\n",
    "In this model, we are using TfidfVectorizer."
   ]
  },
  {
   "cell_type": "code",
   "execution_count": 39,
   "id": "e35e5999-6004-4d4e-822d-680085131529",
   "metadata": {},
   "outputs": [],
   "source": [
    "from sklearn.feature_extraction.text import TfidfVectorizer\n",
    "\n",
    "# Initialize TfidfVectorizer\n",
    "vectorizer = TfidfVectorizer(max_features=1000)\n",
    "\n",
    "# Fit and transform the cleaned text\n",
    "X = vectorizer.fit_transform(df['cleaned_text']).toarray()\n",
    "\n",
    "# Extract target variable\n",
    "y = df['Emotion']\n",
    "\n",
    "# Split the dataset into training and testing sets\n",
    "X_train, X_test, y_train, y_test = train_test_split(X, y, test_size=0.2, random_state=42)"
   ]
  },
  {
   "cell_type": "markdown",
   "id": "084a2a61-4ad3-445e-944d-886b703bf949",
   "metadata": {},
   "source": [
    "## <span style=\"color : maroon\" > Model Development </span>"
   ]
  },
  {
   "cell_type": "markdown",
   "id": "bfd94611-a92b-4af7-8069-4aaf0935cb1d",
   "metadata": {},
   "source": [
    "### **Naive Bayes**"
   ]
  },
  {
   "cell_type": "code",
   "execution_count": 40,
   "id": "6acc6794-baaf-4287-bd7b-fdf3f962437b",
   "metadata": {},
   "outputs": [
    {
     "name": "stdout",
     "output_type": "stream",
     "text": [
      "Naive Bayes Accuracy: 0.9132996632996633\n",
      "Naive Bayes F1-Score:  0.9133716011282641\n"
     ]
    }
   ],
   "source": [
    "from sklearn.naive_bayes import MultinomialNB\n",
    "from sklearn.metrics import accuracy_score, f1_score\n",
    "\n",
    "nb_model = MultinomialNB()\n",
    "nb_model.fit(X_train, y_train)\n",
    "\n",
    "y_pred_nb = nb_model.predict(X_test)\n",
    "\n",
    "accuracy_nb = accuracy_score(y_test, y_pred_nb)\n",
    "f1_nb = f1_score(y_test, y_pred_nb, average='weighted')\n",
    "\n",
    "print(\"Naive Bayes Accuracy:\",accuracy_nb)\n",
    "print(\"Naive Bayes F1-Score: \",f1_nb)"
   ]
  },
  {
   "cell_type": "markdown",
   "id": "1c110726-451e-4073-a9eb-1dbd749b499d",
   "metadata": {},
   "source": [
    "#### Naive Bayes \n",
    "* Naive Bayes is easy to implement and understand.\n",
    "* Naive Bayes performs well with high-dimensional data.\n",
    "* It is particularly effective with discrete features, making it a natural choice for text classification.\n",
    "* It requires less preprocessing of data compared to other algorithms."
   ]
  },
  {
   "cell_type": "markdown",
   "id": "7427eb76-8643-45c2-a5d4-a375a1307d20",
   "metadata": {},
   "source": [
    "### **Support Vector Machine**"
   ]
  },
  {
   "cell_type": "code",
   "execution_count": 41,
   "id": "905efa3e-64a1-4441-963a-f17d8cbdaec1",
   "metadata": {},
   "outputs": [
    {
     "name": "stdout",
     "output_type": "stream",
     "text": [
      "Support Vector Machine Accuracy: 0.9461279461279462\n",
      "Support Vector Machine F1-Score:  0.9460903357272678\n"
     ]
    }
   ],
   "source": [
    "from sklearn.svm import SVC\n",
    "\n",
    "svm_model = SVC(kernel='linear')\n",
    "svm_model.fit(X_train, y_train)\n",
    "y_pred_svm = svm_model.predict(X_test)\n",
    "\n",
    "accuracy_svm = accuracy_score(y_test, y_pred_svm)\n",
    "f1_svm = f1_score(y_test, y_pred_svm, average='weighted')\n",
    "\n",
    "print(\"Support Vector Machine Accuracy:\",accuracy_svm)\n",
    "print(\"Support Vector Machine F1-Score: \",f1_svm)"
   ]
  },
  {
   "cell_type": "markdown",
   "id": "edd014ee-e0bc-480b-be9f-75e9254e5f84",
   "metadata": {},
   "source": [
    "#### Support Vector Machine\n",
    "* SVM is a powerful supervised learning algorithm used primarily for classification tasks.\n",
    "* Effective in Binary and Multiclass Classification.\n",
    "* SVM tends to be less prone to overfitting.\n",
    "* It is based on solid mathematical principles of optimization, ensuring reliable performance and predictability."
   ]
  },
  {
   "cell_type": "markdown",
   "id": "9a1240ef-4c08-4801-ad94-7da7e2338761",
   "metadata": {},
   "source": [
    "## <span style=\"color : maroon\" > Model Comparison </span>"
   ]
  },
  {
   "cell_type": "code",
   "execution_count": 42,
   "id": "511f12ef-7d91-49dc-ab90-6d0f64a60b8c",
   "metadata": {},
   "outputs": [
    {
     "name": "stdout",
     "output_type": "stream",
     "text": [
      "                    Model  Accuracy  F1 Score\n",
      "0             Naive Bayes  0.913300  0.913372\n",
      "1  Support Vector Machine  0.946128  0.946090\n"
     ]
    }
   ],
   "source": [
    "model_comparison = pd.DataFrame({\n",
    "    'Model': ['Naive Bayes', 'Support Vector Machine'],\n",
    "    'Accuracy': [accuracy_nb, accuracy_svm],\n",
    "    'F1 Score': [f1_nb, f1_svm]})\n",
    "print(model_comparison)"
   ]
  },
  {
   "cell_type": "markdown",
   "id": "de623e35-242b-4570-9335-cd83601dbac8",
   "metadata": {},
   "source": [
    "#### Accuracy of Support vector machine(94.61%) is more than that of Naive Bayes(91.33%). Similarly, F1 score of Support vector machine(94.6%) is more than that of Naive bayes(91.33%). Hence, best model is Support vector machine."
   ]
  }
 ],
 "metadata": {
  "kernelspec": {
   "display_name": "Python 3 (ipykernel)",
   "language": "python",
   "name": "python3"
  },
  "language_info": {
   "codemirror_mode": {
    "name": "ipython",
    "version": 3
   },
   "file_extension": ".py",
   "mimetype": "text/x-python",
   "name": "python",
   "nbconvert_exporter": "python",
   "pygments_lexer": "ipython3",
   "version": "3.12.1"
  }
 },
 "nbformat": 4,
 "nbformat_minor": 5
}
